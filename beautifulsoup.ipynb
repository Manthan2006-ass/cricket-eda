{
 "cells": [
  {
   "cell_type": "code",
   "execution_count": 1,
   "id": "f8f2e4c2-7dcf-4ba5-9f7f-035cefa0a368",
   "metadata": {},
   "outputs": [
    {
     "name": "stdout",
     "output_type": "stream",
     "text": [
      "Requirement already satisfied: beautifulsoup4 in c:\\users\\manth\\anaconda3\\lib\\site-packages (4.12.3)\n",
      "Requirement already satisfied: lxml in c:\\users\\manth\\anaconda3\\lib\\site-packages (5.3.0)\n",
      "Requirement already satisfied: soupsieve>1.2 in c:\\users\\manth\\anaconda3\\lib\\site-packages (from beautifulsoup4) (2.5)\n",
      "Note: you may need to restart the kernel to use updated packages.\n"
     ]
    }
   ],
   "source": [
    "pip install beautifulsoup4 lxml"
   ]
  },
  {
   "cell_type": "code",
   "execution_count": 2,
   "id": "d475ecd6-4544-44bf-aa1d-af2080c78b67",
   "metadata": {},
   "outputs": [],
   "source": [
    "from bs4 import BeautifulSoup"
   ]
  },
  {
   "cell_type": "code",
   "execution_count": 3,
   "id": "7a594267-118d-4f67-bd77-92a42cf5132c",
   "metadata": {},
   "outputs": [],
   "source": [
    "with open(\"HTMLS/page1.html\") as f:\n",
    "    content=f.read()"
   ]
  },
  {
   "cell_type": "code",
   "execution_count": 4,
   "id": "bd47bb5f-74fe-4895-824f-8dc199663f62",
   "metadata": {},
   "outputs": [],
   "source": [
    "soup=BeautifulSoup(content,\"html.parser\")"
   ]
  },
  {
   "cell_type": "code",
   "execution_count": 5,
   "id": "4bf92630-e778-4322-9f45-aae063f5196a",
   "metadata": {},
   "outputs": [],
   "source": [
    "h3s=soup.find_all(\"h3\")"
   ]
  },
  {
   "cell_type": "code",
   "execution_count": 6,
   "id": "2c34cc9b-b81d-4566-89c0-b83134f24486",
   "metadata": {},
   "outputs": [
    {
     "data": {
      "text/plain": [
       "[<h3><a href=\"a-light-in-the-attic_1000/index.html\" title=\"A Light in the Attic\">A Light in the ...</a></h3>,\n",
       " <h3><a href=\"tipping-the-velvet_999/index.html\" title=\"Tipping the Velvet\">Tipping the Velvet</a></h3>,\n",
       " <h3><a href=\"soumission_998/index.html\" title=\"Soumission\">Soumission</a></h3>,\n",
       " <h3><a href=\"sharp-objects_997/index.html\" title=\"Sharp Objects\">Sharp Objects</a></h3>,\n",
       " <h3><a href=\"sapiens-a-brief-history-of-humankind_996/index.html\" title=\"Sapiens: A Brief History of Humankind\">Sapiens: A Brief History ...</a></h3>,\n",
       " <h3><a href=\"the-requiem-red_995/index.html\" title=\"The Requiem Red\">The Requiem Red</a></h3>,\n",
       " <h3><a href=\"the-dirty-little-secrets-of-getting-your-dream-job_994/index.html\" title=\"The Dirty Little Secrets of Getting Your Dream Job\">The Dirty Little Secrets ...</a></h3>,\n",
       " <h3><a href=\"the-coming-woman-a-novel-based-on-the-life-of-the-infamous-feminist-victoria-woodhull_993/index.html\" title=\"The Coming Woman: A Novel Based on the Life of the Infamous Feminist, Victoria Woodhull\">The Coming Woman: A ...</a></h3>,\n",
       " <h3><a href=\"the-boys-in-the-boat-nine-americans-and-their-epic-quest-for-gold-at-the-1936-berlin-olympics_992/index.html\" title=\"The Boys in the Boat: Nine Americans and Their Epic Quest for Gold at the 1936 Berlin Olympics\">The Boys in the ...</a></h3>,\n",
       " <h3><a href=\"the-black-maria_991/index.html\" title=\"The Black Maria\">The Black Maria</a></h3>,\n",
       " <h3><a href=\"starving-hearts-triangular-trade-trilogy-1_990/index.html\" title=\"Starving Hearts (Triangular Trade Trilogy, #1)\">Starving Hearts (Triangular Trade ...</a></h3>,\n",
       " <h3><a href=\"shakespeares-sonnets_989/index.html\" title=\"Shakespeare's Sonnets\">Shakespeare's Sonnets</a></h3>,\n",
       " <h3><a href=\"set-me-free_988/index.html\" title=\"Set Me Free\">Set Me Free</a></h3>,\n",
       " <h3><a href=\"scott-pilgrims-precious-little-life-scott-pilgrim-1_987/index.html\" title=\"Scott Pilgrim's Precious Little Life (Scott Pilgrim #1)\">Scott Pilgrim's Precious Little ...</a></h3>,\n",
       " <h3><a href=\"rip-it-up-and-start-again_986/index.html\" title=\"Rip it Up and Start Again\">Rip it Up and ...</a></h3>,\n",
       " <h3><a href=\"our-band-could-be-your-life-scenes-from-the-american-indie-underground-1981-1991_985/index.html\" title=\"Our Band Could Be Your Life: Scenes from the American Indie Underground, 1981-1991\">Our Band Could Be ...</a></h3>,\n",
       " <h3><a href=\"olio_984/index.html\" title=\"Olio\">Olio</a></h3>,\n",
       " <h3><a href=\"mesaerion-the-best-science-fiction-stories-1800-1849_983/index.html\" title=\"Mesaerion: The Best Science Fiction Stories 1800-1849\">Mesaerion: The Best Science ...</a></h3>,\n",
       " <h3><a href=\"libertarianism-for-beginners_982/index.html\" title=\"Libertarianism for Beginners\">Libertarianism for Beginners</a></h3>,\n",
       " <h3><a href=\"its-only-the-himalayas_981/index.html\" title=\"It's Only the Himalayas\">It's Only the Himalayas</a></h3>]"
      ]
     },
     "execution_count": 6,
     "metadata": {},
     "output_type": "execute_result"
    }
   ],
   "source": [
    "h3s"
   ]
  },
  {
   "cell_type": "code",
   "execution_count": 7,
   "id": "87c78980-a93f-4e9d-8dee-4aa298003347",
   "metadata": {},
   "outputs": [
    {
     "name": "stdout",
     "output_type": "stream",
     "text": [
      "A Light in the Attic\n",
      "Tipping the Velvet\n",
      "Soumission\n",
      "Sharp Objects\n",
      "Sapiens: A Brief History of Humankind\n",
      "The Requiem Red\n",
      "The Dirty Little Secrets of Getting Your Dream Job\n",
      "The Coming Woman: A Novel Based on the Life of the Infamous Feminist, Victoria Woodhull\n",
      "The Boys in the Boat: Nine Americans and Their Epic Quest for Gold at the 1936 Berlin Olympics\n",
      "The Black Maria\n",
      "Starving Hearts (Triangular Trade Trilogy, #1)\n",
      "Shakespeare's Sonnets\n",
      "Set Me Free\n",
      "Scott Pilgrim's Precious Little Life (Scott Pilgrim #1)\n",
      "Rip it Up and Start Again\n",
      "Our Band Could Be Your Life: Scenes from the American Indie Underground, 1981-1991\n",
      "Olio\n",
      "Mesaerion: The Best Science Fiction Stories 1800-1849\n",
      "Libertarianism for Beginners\n",
      "It's Only the Himalayas\n"
     ]
    }
   ],
   "source": [
    "for h3 in h3s:\n",
    "    print(h3.find(\"a\")['title'])"
   ]
  },
  {
   "cell_type": "code",
   "execution_count": 8,
   "id": "8c94489f-ac4e-4df6-9e09-23545a1de02f",
   "metadata": {},
   "outputs": [],
   "source": [
    "articles=soup.select(\"article.product_pod\")"
   ]
  },
  {
   "cell_type": "code",
   "execution_count": 10,
   "id": "f3953bd7-1abf-4bd0-b7b8-a4280813abbd",
   "metadata": {},
   "outputs": [
    {
     "name": "stdout",
     "output_type": "stream",
     "text": [
      "A Light in the Attic\n",
      "Tipping the Velvet\n",
      "Soumission\n",
      "Sharp Objects\n",
      "Sapiens: A Brief History of Humankind\n",
      "The Requiem Red\n",
      "The Dirty Little Secrets of Getting Your Dream Job\n",
      "The Coming Woman: A Novel Based on the Life of the Infamous Feminist, Victoria Woodhull\n",
      "The Boys in the Boat: Nine Americans and Their Epic Quest for Gold at the 1936 Berlin Olympics\n",
      "The Black Maria\n",
      "Starving Hearts (Triangular Trade Trilogy, #1)\n",
      "Shakespeare's Sonnets\n",
      "Set Me Free\n",
      "Scott Pilgrim's Precious Little Life (Scott Pilgrim #1)\n",
      "Rip it Up and Start Again\n",
      "Our Band Could Be Your Life: Scenes from the American Indie Underground, 1981-1991\n",
      "Olio\n",
      "Mesaerion: The Best Science Fiction Stories 1800-1849\n",
      "Libertarianism for Beginners\n",
      "It's Only the Himalayas\n"
     ]
    }
   ],
   "source": [
    "for article in articles:\n",
    "    title=article.find(\"h3\").find(\"a\")[\"title\"]\n",
    "    print(title)"
   ]
  },
  {
   "cell_type": "code",
   "execution_count": 11,
   "id": "48099d7e-7535-4aa0-82b7-eb010e057c31",
   "metadata": {},
   "outputs": [
    {
     "name": "stdout",
     "output_type": "stream",
     "text": [
      "51.77\n",
      "53.74\n",
      "50.10\n",
      "47.82\n",
      "54.23\n",
      "22.65\n",
      "33.34\n",
      "17.93\n",
      "22.60\n",
      "52.15\n",
      "13.99\n",
      "20.66\n",
      "17.46\n",
      "52.29\n",
      "35.02\n",
      "57.25\n",
      "23.88\n",
      "37.59\n",
      "51.33\n",
      "45.17\n"
     ]
    }
   ],
   "source": [
    "for article in articles:\n",
    "    title=article.find(\"h3\").find(\"a\")[\"title\"]\n",
    "    price=article.select_one(\"p.price_color\").text.split(\"£\")[1]\n",
    "    print(price)"
   ]
  },
  {
   "cell_type": "code",
   "execution_count": 17,
   "id": "9bacf9d4-268c-469f-8b0c-ba7305120127",
   "metadata": {},
   "outputs": [],
   "source": [
    "items=[]\n",
    "for article in articles:\n",
    "    title=article.find(\"h3\").find(\"a\")[\"title\"]\n",
    "    price=article.select_one(\"p.price_color\").text.split(\"£\")[1]\n",
    "    rating_element=article.select_one(\"p.star-rating\")\n",
    "    rating=rating_element['class'][1]\n",
    "    items.append([title,price,rating])\n",
    "    "
   ]
  },
  {
   "cell_type": "code",
   "execution_count": 18,
   "id": "6a95ef82-fd9f-4689-816d-e4bfcab49475",
   "metadata": {},
   "outputs": [
    {
     "data": {
      "text/plain": [
       "[['A Light in the Attic', '51.77', 'Three'],\n",
       " ['Tipping the Velvet', '53.74', 'One'],\n",
       " ['Soumission', '50.10', 'One'],\n",
       " ['Sharp Objects', '47.82', 'Four'],\n",
       " ['Sapiens: A Brief History of Humankind', '54.23', 'Five'],\n",
       " ['The Requiem Red', '22.65', 'One'],\n",
       " ['The Dirty Little Secrets of Getting Your Dream Job', '33.34', 'Four'],\n",
       " ['The Coming Woman: A Novel Based on the Life of the Infamous Feminist, Victoria Woodhull',\n",
       "  '17.93',\n",
       "  'Three'],\n",
       " ['The Boys in the Boat: Nine Americans and Their Epic Quest for Gold at the 1936 Berlin Olympics',\n",
       "  '22.60',\n",
       "  'Four'],\n",
       " ['The Black Maria', '52.15', 'One'],\n",
       " ['Starving Hearts (Triangular Trade Trilogy, #1)', '13.99', 'Two'],\n",
       " [\"Shakespeare's Sonnets\", '20.66', 'Four'],\n",
       " ['Set Me Free', '17.46', 'Five'],\n",
       " [\"Scott Pilgrim's Precious Little Life (Scott Pilgrim #1)\", '52.29', 'Five'],\n",
       " ['Rip it Up and Start Again', '35.02', 'Five'],\n",
       " ['Our Band Could Be Your Life: Scenes from the American Indie Underground, 1981-1991',\n",
       "  '57.25',\n",
       "  'Three'],\n",
       " ['Olio', '23.88', 'One'],\n",
       " ['Mesaerion: The Best Science Fiction Stories 1800-1849', '37.59', 'One'],\n",
       " ['Libertarianism for Beginners', '51.33', 'Two'],\n",
       " [\"It's Only the Himalayas\", '45.17', 'Two']]"
      ]
     },
     "execution_count": 18,
     "metadata": {},
     "output_type": "execute_result"
    }
   ],
   "source": [
    "items"
   ]
  },
  {
   "cell_type": "code",
   "execution_count": 19,
   "id": "6cb61800-3ce3-45b2-8db2-acbdd9804a5a",
   "metadata": {},
   "outputs": [],
   "source": [
    "import pandas as pd"
   ]
  },
  {
   "cell_type": "code",
   "execution_count": 20,
   "id": "8ee47922-9aba-4681-ad38-a4cfd4635286",
   "metadata": {},
   "outputs": [
    {
     "data": {
      "text/html": [
       "<div>\n",
       "<style scoped>\n",
       "    .dataframe tbody tr th:only-of-type {\n",
       "        vertical-align: middle;\n",
       "    }\n",
       "\n",
       "    .dataframe tbody tr th {\n",
       "        vertical-align: top;\n",
       "    }\n",
       "\n",
       "    .dataframe thead th {\n",
       "        text-align: right;\n",
       "    }\n",
       "</style>\n",
       "<table border=\"1\" class=\"dataframe\">\n",
       "  <thead>\n",
       "    <tr style=\"text-align: right;\">\n",
       "      <th></th>\n",
       "      <th>Book Name</th>\n",
       "      <th>Price</th>\n",
       "      <th>Rating</th>\n",
       "    </tr>\n",
       "  </thead>\n",
       "  <tbody>\n",
       "    <tr>\n",
       "      <th>0</th>\n",
       "      <td>A Light in the Attic</td>\n",
       "      <td>51.77</td>\n",
       "      <td>Three</td>\n",
       "    </tr>\n",
       "    <tr>\n",
       "      <th>1</th>\n",
       "      <td>Tipping the Velvet</td>\n",
       "      <td>53.74</td>\n",
       "      <td>One</td>\n",
       "    </tr>\n",
       "    <tr>\n",
       "      <th>2</th>\n",
       "      <td>Soumission</td>\n",
       "      <td>50.10</td>\n",
       "      <td>One</td>\n",
       "    </tr>\n",
       "    <tr>\n",
       "      <th>3</th>\n",
       "      <td>Sharp Objects</td>\n",
       "      <td>47.82</td>\n",
       "      <td>Four</td>\n",
       "    </tr>\n",
       "    <tr>\n",
       "      <th>4</th>\n",
       "      <td>Sapiens: A Brief History of Humankind</td>\n",
       "      <td>54.23</td>\n",
       "      <td>Five</td>\n",
       "    </tr>\n",
       "    <tr>\n",
       "      <th>5</th>\n",
       "      <td>The Requiem Red</td>\n",
       "      <td>22.65</td>\n",
       "      <td>One</td>\n",
       "    </tr>\n",
       "    <tr>\n",
       "      <th>6</th>\n",
       "      <td>The Dirty Little Secrets of Getting Your Dream...</td>\n",
       "      <td>33.34</td>\n",
       "      <td>Four</td>\n",
       "    </tr>\n",
       "    <tr>\n",
       "      <th>7</th>\n",
       "      <td>The Coming Woman: A Novel Based on the Life of...</td>\n",
       "      <td>17.93</td>\n",
       "      <td>Three</td>\n",
       "    </tr>\n",
       "    <tr>\n",
       "      <th>8</th>\n",
       "      <td>The Boys in the Boat: Nine Americans and Their...</td>\n",
       "      <td>22.60</td>\n",
       "      <td>Four</td>\n",
       "    </tr>\n",
       "    <tr>\n",
       "      <th>9</th>\n",
       "      <td>The Black Maria</td>\n",
       "      <td>52.15</td>\n",
       "      <td>One</td>\n",
       "    </tr>\n",
       "    <tr>\n",
       "      <th>10</th>\n",
       "      <td>Starving Hearts (Triangular Trade Trilogy, #1)</td>\n",
       "      <td>13.99</td>\n",
       "      <td>Two</td>\n",
       "    </tr>\n",
       "    <tr>\n",
       "      <th>11</th>\n",
       "      <td>Shakespeare's Sonnets</td>\n",
       "      <td>20.66</td>\n",
       "      <td>Four</td>\n",
       "    </tr>\n",
       "    <tr>\n",
       "      <th>12</th>\n",
       "      <td>Set Me Free</td>\n",
       "      <td>17.46</td>\n",
       "      <td>Five</td>\n",
       "    </tr>\n",
       "    <tr>\n",
       "      <th>13</th>\n",
       "      <td>Scott Pilgrim's Precious Little Life (Scott Pi...</td>\n",
       "      <td>52.29</td>\n",
       "      <td>Five</td>\n",
       "    </tr>\n",
       "    <tr>\n",
       "      <th>14</th>\n",
       "      <td>Rip it Up and Start Again</td>\n",
       "      <td>35.02</td>\n",
       "      <td>Five</td>\n",
       "    </tr>\n",
       "    <tr>\n",
       "      <th>15</th>\n",
       "      <td>Our Band Could Be Your Life: Scenes from the A...</td>\n",
       "      <td>57.25</td>\n",
       "      <td>Three</td>\n",
       "    </tr>\n",
       "    <tr>\n",
       "      <th>16</th>\n",
       "      <td>Olio</td>\n",
       "      <td>23.88</td>\n",
       "      <td>One</td>\n",
       "    </tr>\n",
       "    <tr>\n",
       "      <th>17</th>\n",
       "      <td>Mesaerion: The Best Science Fiction Stories 18...</td>\n",
       "      <td>37.59</td>\n",
       "      <td>One</td>\n",
       "    </tr>\n",
       "    <tr>\n",
       "      <th>18</th>\n",
       "      <td>Libertarianism for Beginners</td>\n",
       "      <td>51.33</td>\n",
       "      <td>Two</td>\n",
       "    </tr>\n",
       "    <tr>\n",
       "      <th>19</th>\n",
       "      <td>It's Only the Himalayas</td>\n",
       "      <td>45.17</td>\n",
       "      <td>Two</td>\n",
       "    </tr>\n",
       "  </tbody>\n",
       "</table>\n",
       "</div>"
      ],
      "text/plain": [
       "                                            Book Name  Price Rating\n",
       "0                                A Light in the Attic  51.77  Three\n",
       "1                                  Tipping the Velvet  53.74    One\n",
       "2                                          Soumission  50.10    One\n",
       "3                                       Sharp Objects  47.82   Four\n",
       "4               Sapiens: A Brief History of Humankind  54.23   Five\n",
       "5                                     The Requiem Red  22.65    One\n",
       "6   The Dirty Little Secrets of Getting Your Dream...  33.34   Four\n",
       "7   The Coming Woman: A Novel Based on the Life of...  17.93  Three\n",
       "8   The Boys in the Boat: Nine Americans and Their...  22.60   Four\n",
       "9                                     The Black Maria  52.15    One\n",
       "10     Starving Hearts (Triangular Trade Trilogy, #1)  13.99    Two\n",
       "11                              Shakespeare's Sonnets  20.66   Four\n",
       "12                                        Set Me Free  17.46   Five\n",
       "13  Scott Pilgrim's Precious Little Life (Scott Pi...  52.29   Five\n",
       "14                          Rip it Up and Start Again  35.02   Five\n",
       "15  Our Band Could Be Your Life: Scenes from the A...  57.25  Three\n",
       "16                                               Olio  23.88    One\n",
       "17  Mesaerion: The Best Science Fiction Stories 18...  37.59    One\n",
       "18                       Libertarianism for Beginners  51.33    Two\n",
       "19                            It's Only the Himalayas  45.17    Two"
      ]
     },
     "execution_count": 20,
     "metadata": {},
     "output_type": "execute_result"
    }
   ],
   "source": [
    "df=pd.DataFrame(items,columns=[\"Book Name\",\"Price\",\"Rating\"])\n",
    "df"
   ]
  },
  {
   "cell_type": "code",
   "execution_count": 21,
   "id": "be174f76-ebef-4f2d-937c-ee8e31153364",
   "metadata": {},
   "outputs": [],
   "source": [
    "df.to_csv(\"Webscrapping.csv\",index=False)"
   ]
  },
  {
   "cell_type": "code",
   "execution_count": null,
   "id": "21639c39-b7aa-4cf7-96e5-a69f1795190f",
   "metadata": {},
   "outputs": [],
   "source": []
  }
 ],
 "metadata": {
  "kernelspec": {
   "display_name": "Python 3 (ipykernel)",
   "language": "python",
   "name": "python3"
  },
  "language_info": {
   "codemirror_mode": {
    "name": "ipython",
    "version": 3
   },
   "file_extension": ".py",
   "mimetype": "text/x-python",
   "name": "python",
   "nbconvert_exporter": "python",
   "pygments_lexer": "ipython3",
   "version": "3.13.5"
  }
 },
 "nbformat": 4,
 "nbformat_minor": 5
}
